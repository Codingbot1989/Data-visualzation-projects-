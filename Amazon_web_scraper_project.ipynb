{
  "nbformat": 4,
  "nbformat_minor": 0,
  "metadata": {
    "colab": {
      "provenance": []
    },
    "kernelspec": {
      "name": "python3",
      "display_name": "Python 3"
    },
    "language_info": {
      "name": "python"
    }
  },
  "cells": [
    {
      "cell_type": "code",
      "execution_count": 2,
      "metadata": {
        "id": "3tQJUKKFIole"
      },
      "outputs": [],
      "source": [
        "#import lib\n",
        "\n",
        "from bs4 import BeautifulSoup\n",
        "import requests\n",
        "import smtplib\n",
        "import time\n",
        "import datetime\n"
      ]
    },
    {
      "cell_type": "code",
      "source": [
        "#connect to the website\n",
        "URL='https://www.amazon.com/Data-T-Shirt-Analysts-Scientists-STEM/dp/B07PMCRVHB'\n",
        "headers={\"User-Agent\": \"Mozilla/5.0 (Windows NT 10.0; Win64; x64) AppleWebKit/537.36\",\"Accept-Encoding\": \"gzip, deflate\",\"Accept\": \"text/html,application/xhtml+xml,application/xml;q=0.9,*/*;q=0.8\",\"DNT\":\"1\",\"Connection\":\"Close\",\"Upgrade-Insecure-Requests\":\"1\"}\n",
        "\n",
        "page=requests.get(URL,headers=headers)\n",
        "\n",
        "soup1=BeautifulSoup(page.content, \"html.parser\")\n",
        "soup2=BeautifulSoup(soup1.prettify(),\"html.parser\")\n",
        "\n",
        "title=soup2.find(id='productTitle').get_text()\n",
        "\n",
        "price=soup2.find('span', class_='a-price-whole').get_text()\n",
        "fraction=soup2.find('span',class_=\"a-price-fraction\").get_text()\n",
        "\n",
        "ratings=soup2.find('i', class_=\"a-icon a-icon-star a-star-5 cm-cr-review-stars-spacing-big\").get_text()\n",
        "print(title)\n",
        "\n",
        "print(price+fraction)\n",
        "print(ratings)\n",
        "\n"
      ],
      "metadata": {
        "colab": {
          "base_uri": "https://localhost:8080/"
        },
        "id": "ZEVdIVTCJXyv",
        "outputId": "7063ecd8-c562-4e64-e569-8432949a94a1"
      },
      "execution_count": 28,
      "outputs": [
        {
          "output_type": "stream",
          "name": "stdout",
          "text": [
            "\n",
            "                    Data T-Shirt for Data Analysts, Scientists, BI, STEM (SALE) T-Shirt\n",
            "                   \n",
            "\n",
            "                      18\n",
            "                      \n",
            "                       .\n",
            "                      \n",
            "\n",
            "                      49\n",
            "                     \n",
            "\n",
            "\n",
            "                        5.0 out of 5 stars\n",
            "                       \n",
            "\n"
          ]
        }
      ]
    },
    {
      "cell_type": "code",
      "source": [
        "print(price.strip() + fraction.strip())\n"
      ],
      "metadata": {
        "colab": {
          "base_uri": "https://localhost:8080/"
        },
        "id": "lyFvQuo2VbtJ",
        "outputId": "02435f77-314c-45db-cb23-6858530fa216"
      },
      "execution_count": 30,
      "outputs": [
        {
          "output_type": "stream",
          "name": "stdout",
          "text": [
            "18\n",
            "                      \n",
            "                       .49\n"
          ]
        }
      ]
    },
    {
      "cell_type": "code",
      "source": [
        "# Assuming price and fraction contain the values you mentioned\n",
        "price = \"18\\n\"\n",
        "fraction = \"            .49\"\n",
        "\n",
        "# Remove all non-digit characters from price and fraction\n",
        "price = re.sub(r'\\D', '', price)\n",
        "fraction = re.sub(r'\\D', '', fraction)\n",
        "\n",
        "# Concatenate price and fraction with a decimal point between them\n",
        "result = f\"{price}.{fraction}\"\n",
        "\n",
        "# Print the result\n",
        "print(result)\n"
      ],
      "metadata": {
        "colab": {
          "base_uri": "https://localhost:8080/"
        },
        "id": "VORlrWQVXMUO",
        "outputId": "26133515-bc34-48e5-c8cc-40793a699cb9"
      },
      "execution_count": 32,
      "outputs": [
        {
          "output_type": "stream",
          "name": "stdout",
          "text": [
            "18.49\n"
          ]
        }
      ]
    },
    {
      "cell_type": "code",
      "source": [
        "title=title.strip()\n",
        "print(title)"
      ],
      "metadata": {
        "colab": {
          "base_uri": "https://localhost:8080/"
        },
        "id": "AY79PM75XdAk",
        "outputId": "a2201a19-a46c-42d4-fd80-6477b8ae94e3"
      },
      "execution_count": 34,
      "outputs": [
        {
          "output_type": "stream",
          "name": "stdout",
          "text": [
            "Data T-Shirt for Data Analysts, Scientists, BI, STEM (SALE) T-Shirt\n"
          ]
        }
      ]
    },
    {
      "cell_type": "code",
      "source": [
        "import csv\n",
        "header=['Title','result','Date']\n",
        "data=[title,result,today]\n",
        "with open('Amazon_web_scraper.csv','w',newline='',encoding='UTF8') as f:\n",
        " writer=csv.writer(f)\n",
        " writer.writerow(header)\n",
        " writer.writerow(data)\n"
      ],
      "metadata": {
        "id": "d8_mZoqrXsog"
      },
      "execution_count": 44,
      "outputs": []
    },
    {
      "cell_type": "code",
      "source": [
        "import pandas as pd\n",
        "df=pd.read_csv('/content/Amazon_web_scraper.csv')\n",
        "print(df)"
      ],
      "metadata": {
        "colab": {
          "base_uri": "https://localhost:8080/"
        },
        "id": "4HroS4PO2XAr",
        "outputId": "21bce368-7975-4aff-eb89-bcb9260ceaaf"
      },
      "execution_count": 45,
      "outputs": [
        {
          "output_type": "stream",
          "name": "stdout",
          "text": [
            "                                               Title  result        Date\n",
            "0  Data T-Shirt for Data Analysts, Scientists, BI...   18.49  2024-03-30\n"
          ]
        }
      ]
    },
    {
      "cell_type": "code",
      "source": [
        "#to know when i collected data\n",
        "today=datetime.date.today()\n",
        "print(today)\n"
      ],
      "metadata": {
        "colab": {
          "base_uri": "https://localhost:8080/"
        },
        "id": "jUrT3ElIXsbV",
        "outputId": "ee52356f-2d6c-43e1-9279-beb5ce4aa01e"
      },
      "execution_count": 39,
      "outputs": [
        {
          "output_type": "stream",
          "name": "stdout",
          "text": [
            "2024-03-30\n"
          ]
        }
      ]
    },
    {
      "cell_type": "code",
      "source": [
        "#now we are appending data to the csv\n",
        "\n",
        "with open('Amazon_web_scraper.csv','a+',newline='',encoding='UTF8') as f:\n",
        " writer=csv.writer(f)\n",
        " writer.writerow(data)"
      ],
      "metadata": {
        "id": "JI-6eJvp1-9N"
      },
      "execution_count": null,
      "outputs": []
    },
    {
      "cell_type": "code",
      "source": [
        "def check_result():\n",
        "\n",
        "   URL='https://www.amazon.com/Data-T-Shirt-Analysts-Scientists-STEM/dp/B07PMCRVHB'\n",
        "   headers={\"User-Agent\": \"Mozilla/5.0 (Windows NT 10.0; Win64; x64) AppleWebKit/537.36\",\"Accept-Encoding\": \"gzip, deflate\",\"Accept\": \"text/html,application/xhtml+xml,application/xml;q=0.9,*/*;q=0.8\",\"DNT\":\"1\",\"Connection\":\"Close\",\"Upgrade-Insecure-Requests\":\"1\"}\n",
        "\n",
        "   page=requests.get(URL,headers=headers)\n",
        "\n",
        "   soup1=BeautifulSoup(page.content, \"html.parser\")\n",
        "   soup2=BeautifulSoup(soup1.prettify(),\"html.parser\")\n",
        "\n",
        "   title=soup2.find(id='productTitle').get_text()\n",
        "\n",
        "   price=soup2.find('span', class_='a-price-whole').get_text()\n",
        "   fraction=soup2.find('span',class_=\"a-price-fraction\").get_text()\n",
        "\n",
        "   price = re.sub(r'\\D', '', price)\n",
        "   fraction = re.sub(r'\\D', '', fraction)\n",
        "   result = f\"{price}.{fraction}\"\n",
        "   title=title.strip()\n",
        "   today=datetime.date.today()\n",
        "\n",
        "   import csv\n",
        "   header=['Title','result','Date']\n",
        "   data=[title,result,today]\n",
        "   with open('Amazon_web_scraper.csv','a+',newline='',encoding='UTF8') as f:\n",
        "    writer=csv.writer(f)\n",
        "    writer.writerow(data)\n",
        "\n"
      ],
      "metadata": {
        "id": "Naz51ntH1-6I"
      },
      "execution_count": 54,
      "outputs": []
    },
    {
      "cell_type": "code",
      "source": [
        "while(True):\n",
        "   check_result()\n",
        "   time.sleep(86400)"
      ],
      "metadata": {
        "colab": {
          "base_uri": "https://localhost:8080/",
          "height": 176
        },
        "id": "ZOLzxjeI6VnY",
        "outputId": "dc2af667-975e-4ac5-9fac-4527bad4cdcb"
      },
      "execution_count": 59,
      "outputs": [
        {
          "output_type": "error",
          "ename": "KeyboardInterrupt",
          "evalue": "",
          "traceback": [
            "\u001b[0;31m---------------------------------------------------------------------------\u001b[0m",
            "\u001b[0;31mKeyboardInterrupt\u001b[0m                         Traceback (most recent call last)",
            "\u001b[0;32m<ipython-input-59-a323c3dd9d13>\u001b[0m in \u001b[0;36m<cell line: 1>\u001b[0;34m()\u001b[0m\n\u001b[1;32m      1\u001b[0m \u001b[0;32mwhile\u001b[0m\u001b[0;34m(\u001b[0m\u001b[0;32mTrue\u001b[0m\u001b[0;34m)\u001b[0m\u001b[0;34m:\u001b[0m\u001b[0;34m\u001b[0m\u001b[0;34m\u001b[0m\u001b[0m\n\u001b[1;32m      2\u001b[0m    \u001b[0mcheck_result\u001b[0m\u001b[0;34m(\u001b[0m\u001b[0;34m)\u001b[0m\u001b[0;34m\u001b[0m\u001b[0;34m\u001b[0m\u001b[0m\n\u001b[0;32m----> 3\u001b[0;31m    \u001b[0mtime\u001b[0m\u001b[0;34m.\u001b[0m\u001b[0msleep\u001b[0m\u001b[0;34m(\u001b[0m\u001b[0;36m86400\u001b[0m\u001b[0;34m)\u001b[0m\u001b[0;34m\u001b[0m\u001b[0;34m\u001b[0m\u001b[0m\n\u001b[0m",
            "\u001b[0;31mKeyboardInterrupt\u001b[0m: "
          ]
        }
      ]
    },
    {
      "cell_type": "code",
      "source": [
        "import pandas as pd\n",
        "df=pd.read_csv('/content/Amazon_web_scraper.csv')\n",
        "print(df)"
      ],
      "metadata": {
        "colab": {
          "base_uri": "https://localhost:8080/"
        },
        "id": "jKniOq8q56Bl",
        "outputId": "b30ca65d-6541-441f-98ae-da6bba7482e5"
      },
      "execution_count": 60,
      "outputs": [
        {
          "output_type": "stream",
          "name": "stdout",
          "text": [
            "                                                Title  \\\n",
            "0   Data T-Shirt for Data Analysts, Scientists, BI...   \n",
            "1   Data T-Shirt for Data Analysts, Scientists, BI...   \n",
            "2   Data T-Shirt for Data Analysts, Scientists, BI...   \n",
            "3   Data T-Shirt for Data Analysts, Scientists, BI...   \n",
            "4   Data T-Shirt for Data Analysts, Scientists, BI...   \n",
            "5   Data T-Shirt for Data Analysts, Scientists, BI...   \n",
            "6   Data T-Shirt for Data Analysts, Scientists, BI...   \n",
            "7   Data T-Shirt for Data Analysts, Scientists, BI...   \n",
            "8   Data T-Shirt for Data Analysts, Scientists, BI...   \n",
            "9   Data T-Shirt for Data Analysts, Scientists, BI...   \n",
            "10  Data T-Shirt for Data Analysts, Scientists, BI...   \n",
            "\n",
            "                                               result        Date  \n",
            "0                                               18.49  2024-03-30  \n",
            "1   \\n                      18\\n                  ...  2024-03-30  \n",
            "2   \\n                      18\\n                  ...  2024-03-30  \n",
            "3   \\n                      18\\n                  ...  2024-03-30  \n",
            "4   \\n                      18\\n                  ...  2024-03-30  \n",
            "5   \\n                      18\\n                  ...  2024-03-30  \n",
            "6                                               18.49  2024-03-30  \n",
            "7                                               18.49  2024-03-30  \n",
            "8                                               18.49  2024-03-30  \n",
            "9                                               18.49  2024-03-30  \n",
            "10                                              18.49  2024-03-30  \n"
          ]
        }
      ]
    },
    {
      "cell_type": "code",
      "source": [],
      "metadata": {
        "id": "K9wtrpwh558K"
      },
      "execution_count": null,
      "outputs": []
    },
    {
      "cell_type": "code",
      "source": [],
      "metadata": {
        "id": "Bp3OAJxk5528"
      },
      "execution_count": null,
      "outputs": []
    }
  ]
}
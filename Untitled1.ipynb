{
  "nbformat": 4,
  "nbformat_minor": 0,
  "metadata": {
    "colab": {
      "provenance": []
    },
    "kernelspec": {
      "name": "python3",
      "display_name": "Python 3"
    },
    "language_info": {
      "name": "python"
    }
  },
  "cells": [
    {
      "cell_type": "code",
      "execution_count": 5,
      "metadata": {
        "colab": {
          "base_uri": "https://localhost:8080/"
        },
        "id": "NwoX6cRrIRHk",
        "outputId": "451888ab-cbfc-4a8c-f134-3b7852f757fe"
      },
      "outputs": [
        {
          "output_type": "stream",
          "name": "stdout",
          "text": [
            "enter a no71\n",
            "not divisible\n"
          ]
        }
      ],
      "source": [
        "no=int(input('enter a no'))\n",
        "if no%2==0:\n",
        "  print('perfectly divisible by 2')\n",
        "elif no%3==0:\n",
        "     print('perfectly divisible by 3')\n",
        "elif no%7==0:\n",
        "       print('perfectly divisible by 7')\n",
        "else:\n",
        "       print('not divisible')"
      ]
    },
    {
      "cell_type": "code",
      "source": [
        "import numpy as np\n",
        "list=[1,2,3,45,5]\n"
      ],
      "metadata": {
        "id": "rynS1PS4Mach"
      },
      "execution_count": 6,
      "outputs": []
    },
    {
      "cell_type": "code",
      "source": [
        "type(list)"
      ],
      "metadata": {
        "colab": {
          "base_uri": "https://localhost:8080/"
        },
        "id": "XlpmLChYMaZ8",
        "outputId": "b948fa6e-9a77-4621-bdf0-dc95b111006a"
      },
      "execution_count": 8,
      "outputs": [
        {
          "output_type": "execute_result",
          "data": {
            "text/plain": [
              "list"
            ]
          },
          "metadata": {},
          "execution_count": 8
        }
      ]
    },
    {
      "cell_type": "code",
      "source": [
        "arr=np.array(list)\n",
        "print(arr)\n"
      ],
      "metadata": {
        "colab": {
          "base_uri": "https://localhost:8080/"
        },
        "id": "CIvOJaSqMaXl",
        "outputId": "fe7f551a-3130-4580-cb8c-bc7efeeb68e2"
      },
      "execution_count": 11,
      "outputs": [
        {
          "output_type": "stream",
          "name": "stdout",
          "text": [
            "[ 1  2  3 45  5]\n"
          ]
        }
      ]
    },
    {
      "cell_type": "code",
      "source": [
        "type(arr)"
      ],
      "metadata": {
        "colab": {
          "base_uri": "https://localhost:8080/"
        },
        "id": "M-f7qVXXMaVb",
        "outputId": "fbd4b7a3-6624-49b3-f541-404db86152ab"
      },
      "execution_count": 13,
      "outputs": [
        {
          "output_type": "execute_result",
          "data": {
            "text/plain": [
              "numpy.ndarray"
            ]
          },
          "metadata": {},
          "execution_count": 13
        }
      ]
    },
    {
      "cell_type": "code",
      "source": [
        "list_1= [1,2,3]\n",
        "list_2= [4,2,5]\n",
        "list_3= [5,6,8]\n",
        "list_4= [9,6,3]\n"
      ],
      "metadata": {
        "id": "k5U55RukMaTD"
      },
      "execution_count": 18,
      "outputs": []
    },
    {
      "cell_type": "code",
      "source": [
        "arr_new=np.array([list_1,list_2,list_3,list_4])\n",
        "print(arr_new)"
      ],
      "metadata": {
        "colab": {
          "base_uri": "https://localhost:8080/"
        },
        "id": "TWO60UA5MaQV",
        "outputId": "11ebc6d6-1590-4898-f029-9f5119dcde05"
      },
      "execution_count": 19,
      "outputs": [
        {
          "output_type": "stream",
          "name": "stdout",
          "text": [
            "[[1 2 3]\n",
            " [4 2 5]\n",
            " [5 6 8]\n",
            " [9 6 3]]\n"
          ]
        }
      ]
    },
    {
      "cell_type": "code",
      "source": [
        "type(arr_new)"
      ],
      "metadata": {
        "colab": {
          "base_uri": "https://localhost:8080/"
        },
        "id": "s9Wpyr7hMaNK",
        "outputId": "57a5a513-0e29-435b-fac0-13591ddefdd7"
      },
      "execution_count": 20,
      "outputs": [
        {
          "output_type": "execute_result",
          "data": {
            "text/plain": [
              "numpy.ndarray"
            ]
          },
          "metadata": {},
          "execution_count": 20
        }
      ]
    },
    {
      "cell_type": "code",
      "source": [
        "arr_new.shape\n"
      ],
      "metadata": {
        "colab": {
          "base_uri": "https://localhost:8080/"
        },
        "id": "niFjHnztMaKK",
        "outputId": "f650d068-51d7-48f5-a4c8-e8886230d159"
      },
      "execution_count": 21,
      "outputs": [
        {
          "output_type": "execute_result",
          "data": {
            "text/plain": [
              "(4, 3)"
            ]
          },
          "metadata": {},
          "execution_count": 21
        }
      ]
    },
    {
      "cell_type": "code",
      "source": [
        "arr_new.reshape(3,4)"
      ],
      "metadata": {
        "colab": {
          "base_uri": "https://localhost:8080/"
        },
        "id": "z5Q0clEPMaHY",
        "outputId": "95b1b6fa-d9b6-436f-9591-da0aaad06cb6"
      },
      "execution_count": 22,
      "outputs": [
        {
          "output_type": "execute_result",
          "data": {
            "text/plain": [
              "array([[1, 2, 3, 4],\n",
              "       [2, 5, 5, 6],\n",
              "       [8, 9, 6, 3]])"
            ]
          },
          "metadata": {},
          "execution_count": 22
        }
      ]
    },
    {
      "cell_type": "code",
      "source": [
        "print(arr_new.reshape)"
      ],
      "metadata": {
        "colab": {
          "base_uri": "https://localhost:8080/"
        },
        "id": "YwNo6Kk5P1qU",
        "outputId": "ce192448-7a3e-46c4-f7e3-aa254c938270"
      },
      "execution_count": 27,
      "outputs": [
        {
          "output_type": "stream",
          "name": "stdout",
          "text": [
            "<built-in method reshape of numpy.ndarray object at 0x7f6dd9bd1110>\n"
          ]
        }
      ]
    },
    {
      "cell_type": "code",
      "source": [
        "print(arr)"
      ],
      "metadata": {
        "colab": {
          "base_uri": "https://localhost:8080/"
        },
        "id": "O1Os2t0XMaEJ",
        "outputId": "a7bd9ba6-3dcf-4484-b78a-00ec357ebc2f"
      },
      "execution_count": 23,
      "outputs": [
        {
          "output_type": "stream",
          "name": "stdout",
          "text": [
            "[ 1  2  3 45  5]\n"
          ]
        }
      ]
    },
    {
      "cell_type": "code",
      "source": [
        "arr[3]"
      ],
      "metadata": {
        "colab": {
          "base_uri": "https://localhost:8080/"
        },
        "id": "MpIirkf_POI_",
        "outputId": "1ccdb906-9ca4-4eaa-bfcc-0b45beeb4629"
      },
      "execution_count": 24,
      "outputs": [
        {
          "output_type": "execute_result",
          "data": {
            "text/plain": [
              "45"
            ]
          },
          "metadata": {},
          "execution_count": 24
        }
      ]
    },
    {
      "cell_type": "code",
      "source": [
        "arr_new[0:2]"
      ],
      "metadata": {
        "colab": {
          "base_uri": "https://localhost:8080/"
        },
        "id": "SnzWGhqHPOE9",
        "outputId": "122dae27-49c6-4d95-d084-01c21fc31f0a"
      },
      "execution_count": 25,
      "outputs": [
        {
          "output_type": "execute_result",
          "data": {
            "text/plain": [
              "array([[1, 2, 3],\n",
              "       [4, 2, 5]])"
            ]
          },
          "metadata": {},
          "execution_count": 25
        }
      ]
    },
    {
      "cell_type": "code",
      "source": [
        "np.random.randint (1,20,5)"
      ],
      "metadata": {
        "colab": {
          "base_uri": "https://localhost:8080/"
        },
        "id": "sUWQQXaNPOBk",
        "outputId": "eed110a0-e2a3-401c-d8fb-bde626ba45a5"
      },
      "execution_count": 36,
      "outputs": [
        {
          "output_type": "execute_result",
          "data": {
            "text/plain": [
              "array([ 4, 15, 17, 18,  4])"
            ]
          },
          "metadata": {},
          "execution_count": 36
        }
      ]
    },
    {
      "cell_type": "code",
      "source": [
        "import numpy as np\n",
        "\n",
        "random_integer = np.random.randint(1, 10, size=(3, 3))\n",
        "print(random_integer)\n"
      ],
      "metadata": {
        "colab": {
          "base_uri": "https://localhost:8080/"
        },
        "id": "HBdbKq-xPN-o",
        "outputId": "8d3cb50d-2dc0-4165-c39c-50fcf16a6d00"
      },
      "execution_count": 37,
      "outputs": [
        {
          "output_type": "stream",
          "name": "stdout",
          "text": [
            "[[2 1 2]\n",
            " [6 2 1]\n",
            " [5 2 3]]\n"
          ]
        }
      ]
    },
    {
      "cell_type": "code",
      "source": [
        "import numpy as np\n",
        "\n",
        "random_values = np.random.rand(3, 3)\n",
        "print(random_values)\n"
      ],
      "metadata": {
        "colab": {
          "base_uri": "https://localhost:8080/"
        },
        "id": "WZd0890YPN7o",
        "outputId": "6b0ac153-80bf-41bd-941f-c80e3d1daf0b"
      },
      "execution_count": 38,
      "outputs": [
        {
          "output_type": "stream",
          "name": "stdout",
          "text": [
            "[[0.16270491 0.43867335 0.28464971]\n",
            " [0.83640094 0.78977606 0.8686278 ]\n",
            " [0.80952143 0.40487273 0.61965495]]\n"
          ]
        }
      ]
    },
    {
      "cell_type": "code",
      "source": [],
      "metadata": {
        "id": "5n0l-D1tPN4Z"
      },
      "execution_count": null,
      "outputs": []
    },
    {
      "cell_type": "code",
      "source": [],
      "metadata": {
        "id": "4yIxMmUtPN1t"
      },
      "execution_count": null,
      "outputs": []
    },
    {
      "cell_type": "code",
      "source": [],
      "metadata": {
        "id": "9JikbwxfPNyy"
      },
      "execution_count": null,
      "outputs": []
    }
  ]
}